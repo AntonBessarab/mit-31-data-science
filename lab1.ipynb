{
 "cells": [
  {
   "cell_type": "markdown",
   "metadata": {},
   "source": [
    "Jupyter Notebook — це інструмент, який дозволяє писати, виконувати код покроково та документувати його у зручному середовищі."
   ]
  },
  {
   "cell_type": "code",
   "execution_count": 2,
   "metadata": {},
   "outputs": [
    {
     "name": "stdout",
     "output_type": "stream",
     "text": [
      "Hello,Anton!\n"
     ]
    }
   ],
   "source": [
    "ask_name = input(\"Enter your name:\")\n",
    "print(f\"Hello,{ask_name}!\")"
   ]
  },
  {
   "cell_type": "code",
   "execution_count": 27,
   "metadata": {},
   "outputs": [
    {
     "name": "stdout",
     "output_type": "stream",
     "text": [
      "Random numbers: [78 54 17 90 99 15  0 61 49 54]\n",
      "Average value: 51.7\n"
     ]
    }
   ],
   "source": [
    "import numpy as np\n",
    "\n",
    "\n",
    "random_numbers  = np.random.randint(0, 100, 10)\n",
    "average_value = np.mean(random_numbers)\n",
    "\n",
    "print(\"Random numbers:\", random_numbers)\n",
    "print(\"Average value:\", average_value)"
   ]
  }
 ],
 "metadata": {
  "kernelspec": {
   "display_name": "venv",
   "language": "python",
   "name": "python3"
  },
  "language_info": {
   "codemirror_mode": {
    "name": "ipython",
    "version": 3
   },
   "file_extension": ".py",
   "mimetype": "text/x-python",
   "name": "python",
   "nbconvert_exporter": "python",
   "pygments_lexer": "ipython3",
   "version": "3.12.2"
  }
 },
 "nbformat": 4,
 "nbformat_minor": 2
}
